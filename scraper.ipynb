{
 "cells": [
  {
   "cell_type": "markdown",
   "metadata": {},
   "source": [
    "# JOSAA-scrape\n",
    "A python script to scrape the JOSAA OR/CR page at the [JOSAA Result Archieve](https://josaa.nic.in/Result/Result/OpeningClosingRankArchieve.aspx).\n",
    "\n",
    "Uses `requests`, `BeautifulSoup` and `pandas`\n",
    "\n",
    "I do not own this data, nor am I liable for any consequences of its usage."
   ]
  },
  {
   "cell_type": "code",
   "execution_count": null,
   "metadata": {},
   "outputs": [],
   "source": [
    "import requests\n",
    "from bs4 import BeautifulSoup\n",
    "import pandas as pd"
   ]
  },
  {
   "cell_type": "markdown",
   "metadata": {},
   "source": [
    "`params` is a dictionary containing params info from DevTools > Network > Params\n",
    "\n",
    "It is an ASP .NET powered form, so a `__VIEWSTATE` and `__EVENTVALIDATION` are assigned to every session. Every dropdown selection adds some encoded info to these parameters, so it is not possible to send them all at once.\n",
    "\n",
    "We can get these values from the hidden `__VIEWSTATE` and similar inputs on the page after every POST request.\n",
    "\n",
    "The `josaa_scrape()` function return a pandas dataframe containing the year and round specific OR/CR.\n",
    "\n",
    "`pandas` converts the OR/CR to `float`s, so I typecast them back as `int`s.\n",
    "\n",
    "2016 only had 6 rounds for some reason, so the ugly adjustments were required in `years` and `rounds`."
   ]
  },
  {
   "cell_type": "code",
   "execution_count": null,
   "metadata": {},
   "outputs": [],
   "source": [
    "url = 'https://josaa.nic.in/Result/Result/OpeningClosingRankArchieve.aspx'\n",
    "\n",
    "params = {\n",
    "    \"ctl00$ContentPlaceHolder1$ddlInstype\": \"ALL\",\n",
    "    \"ctl00$ContentPlaceHolder1$ddlInstitute\": \"ALL\",\n",
    "    \"ctl00$ContentPlaceHolder1$ddlBranch\": \"ALL\",\n",
    "    \"ctl00$ContentPlaceHolder1$btnSubmit\": \"Submit\"\n",
    "}"
   ]
  },
  {
   "cell_type": "code",
   "execution_count": null,
   "metadata": {},
   "outputs": [],
   "source": [
    "years = [\n",
    "    \"2018\",\n",
    "    \"2017\"\n",
    "#     \"2017\",\n",
    "#     \"2016\"\n",
    "]\n",
    "\n",
    "rounds = [\n",
    "    \"1\",\n",
    "    \"2\",\n",
    "    \"3\",\n",
    "    \"4\",\n",
    "    \"5\",\n",
    "#     \"6\"\n",
    "    \"6\",\n",
    "    \"7\"\n",
    "]"
   ]
  },
  {
   "cell_type": "code",
   "execution_count": null,
   "metadata": {},
   "outputs": [],
   "source": [
    "def josaa_scrape(year, Round):\n",
    "    \"\"\"\n",
    "    Sample usage: df = josaa_scrape(\"2018\", \"1\")\n",
    "    df.info()\n",
    "    \"\"\"\n",
    "    with requests.Session() as s:\n",
    "        R = s.get(url)\n",
    "        data = {}\n",
    "        data.update({tag['name']: tag['value'] for tag in BeautifulSoup(R.content, 'lxml').select('input[name^=__]')})\n",
    "        data[\"ctl00$ContentPlaceHolder1$ddlYear\"] = year\n",
    "        R = s.post(url, data=data)\n",
    "\n",
    "        data.update({tag['name']: tag['value'] for tag in BeautifulSoup(R.content, 'lxml').select('input[name^=__]')})\n",
    "        data[\"ctl00$ContentPlaceHolder1$ddlroundno\"] = Round\n",
    "        R = s.post(url, data=data)\n",
    "\n",
    "        for key, value in params.items():\n",
    "            data.update({tag['name']: tag['value'] for tag in BeautifulSoup(R.content, 'lxml').select('input[name^=__]')})\n",
    "            data[key] = value\n",
    "            R = s.post(url, data=data)\n",
    "\n",
    "    table = BeautifulSoup(R.text, 'lxml').find(id = 'ctl00_ContentPlaceHolder1_GridView1')\n",
    "    df = pd.read_html(table.prettify())[0]\n",
    "    df.dropna(inplace = True, how=\"all\")\n",
    "\n",
    "    df[\"Year\"] = year\n",
    "    df[\"Round\"] = Round\n",
    "    df['Opening Rank'] = df['Opening Rank'].astype(int)\n",
    "    df['Closing Rank'] = df['Closing Rank'].astype(int)\n",
    "\n",
    "    return df"
   ]
  },
  {
   "cell_type": "code",
   "execution_count": null,
   "metadata": {},
   "outputs": [],
   "source": [
    "df = josaa_scrape(\"2018\", \"1\")\n",
    "df.info()"
   ]
  },
  {
   "cell_type": "code",
   "execution_count": null,
   "metadata": {},
   "outputs": [],
   "source": [
    "# for year in years:\n",
    "#     for Round in rounds:\n",
    "#         josaa_scrape(year, Round).to_csv(path_or_buf= year + \"-\" + Round + \".csv\", index=False)"
   ]
  }
 ],
 "metadata": {
  "kernelspec": {
   "display_name": "Python 3.7.3 64-bit",
   "language": "python",
   "name": "python37364bitdcc17ddafbb34d42a967bad32c60c5b2"
  },
  "language_info": {
   "codemirror_mode": {
    "name": "ipython",
    "version": 3
   },
   "file_extension": ".py",
   "mimetype": "text/x-python",
   "name": "python",
   "nbconvert_exporter": "python",
   "pygments_lexer": "ipython3",
   "version": "3.7.3"
  }
 },
 "nbformat": 4,
 "nbformat_minor": 2
}
